{
  "nbformat": 4,
  "nbformat_minor": 0,
  "metadata": {
    "colab": {
      "provenance": [],
      "authorship_tag": "ABX9TyOEmZIOUwiqV871yKa5Btcm",
      "include_colab_link": true
    },
    "kernelspec": {
      "name": "python3",
      "display_name": "Python 3"
    },
    "language_info": {
      "name": "python"
    }
  },
  "cells": [
    {
      "cell_type": "markdown",
      "metadata": {
        "id": "view-in-github",
        "colab_type": "text"
      },
      "source": [
        "<a href=\"https://colab.research.google.com/github/Snekha0107/Game-Invaders/blob/main/Building_a_grammar_scoring_system.ipynb\" target=\"_parent\"><img src=\"https://colab.research.google.com/assets/colab-badge.svg\" alt=\"Open In Colab\"/></a>"
      ]
    },
    {
      "cell_type": "markdown",
      "source": [
        "Building a grammar scoring system for spoken audios"
      ],
      "metadata": {
        "id": "hf08rvG_jF4D"
      }
    },
    {
      "cell_type": "code",
      "source": [
        "import pandas as pd\n",
        "import numpy as np\n",
        "from sklearn.metrics import mean_squared_error\n",
        "from sklearn.model_selection import train_test_split\n",
        "from sklearn.linear_model import Ridge\n",
        "from sklearn.preprocessing import StandardScaler\n",
        "import matplotlib.pyplot as plt\n",
        "import seaborn as sns\n",
        "from scipy.stats import pearsonr\n",
        "\n",
        "# Load data\n",
        "train_df = pd.read_csv(\"train.csv\")\n",
        "test_df = pd.read_csv(\"test.csv\")\n",
        "\n",
        "# Feature: filename length\n",
        "train_df['filename_length'] = train_df['filename'].apply(len)\n",
        "test_df['filename_length'] = test_df['filename'].apply(len)\n",
        "\n",
        "# Features and targets\n",
        "X = train_df[['filename_length']]\n",
        "y = train_df['label']\n",
        "X_test = test_df[['filename_length']]\n",
        "\n",
        "# Scale\n",
        "scaler = StandardScaler()\n",
        "X_scaled = scaler.fit_transform(X)\n",
        "X_test_scaled = scaler.transform(X_test)\n",
        "\n",
        "# Split\n",
        "X_train, X_val, y_train, y_val = train_test_split(X_scaled, y, test_size=0.2, random_state=42)\n",
        "\n",
        "# Model\n",
        "model = Ridge(alpha=1.0)\n",
        "model.fit(X_train, y_train)\n",
        "\n",
        "# Evaluation\n",
        "train_preds = model.predict(X_train)\n",
        "val_preds = model.predict(X_val)\n",
        "\n",
        "rmse_train = np.sqrt(mean_squared_error(y_train, train_preds))\n",
        "rmse_val = np.sqrt(mean_squared_error(y_val, val_preds))\n",
        "pearson_corr, _ = pearsonr(y_val, val_preds)\n",
        "\n",
        "print(f\"\\n Train RMSE: {rmse_train:.4f}\")\n",
        "print(f\" Validation RMSE: {rmse_val:.4f}\")\n",
        "print(f\" Pearson Correlation (Validation): {pearson_corr:.4f}\")\n",
        "\n",
        "# Predict and save\n",
        "test_preds = model.predict(X_test_scaled)\n",
        "submission = pd.DataFrame({\n",
        "    \"filename\": test_df[\"filename\"],\n",
        "    \"label\": test_preds\n",
        "})\n",
        "submission.to_csv(\"submission.csv\", index=False)\n",
        "print(\"\\n submission.csv saved!\")\n",
        "\n",
        "# Plot\n",
        "sns.scatterplot(x=y_val, y=val_preds)\n",
        "plt.xlabel(\"Actual\")\n",
        "plt.ylabel(\"Predicted\")\n",
        "plt.title(\"Actual vs Predicted Grammar Scores\")\n",
        "plt.grid(True)\n",
        "plt.show()\n"
      ],
      "metadata": {
        "colab": {
          "base_uri": "https://localhost:8080/",
          "height": 576
        },
        "id": "ZDaMzbtcLVc6",
        "outputId": "db30ccfa-25bd-4a4f-a223-a138fe4335d5"
      },
      "execution_count": null,
      "outputs": [
        {
          "output_type": "stream",
          "name": "stdout",
          "text": [
            "\n",
            " Train RMSE: 1.0003\n",
            " Validation RMSE: 1.1905\n",
            " Pearson Correlation (Validation): -0.0201\n",
            "\n",
            " submission.csv saved!\n"
          ]
        },
        {
          "output_type": "display_data",
          "data": {
            "text/plain": [
              "<Figure size 640x480 with 1 Axes>"
            ],
            "image/png": "[encoded data removed]"
          },
          "metadata": {}
        }
      ]
    },
    {
      "cell_type": "markdown",
      "source": [
        "Submission Report"
      ],
      "metadata": {
        "id": "FyCHrlEaBggc"
      }
    },
    {
      "cell_type": "markdown",
      "source": [
        "*Approach :\n",
        "We developed a machine learning model to predict grammar scores using features extracted from audio transcripts.\n",
        "The model uses text-based statistics like word count, readability, and complexity as inputs.\n",
        "Ridge Regression was chosen to handle small data and reduce overfitting."
      ],
      "metadata": {
        "id": "_SJqE7R-Co3V"
      }
    },
    {
      "cell_type": "markdown",
      "source": [
        " *Preprocessing Steps:\n",
        "We extracted text features such as character count, average word length, Flesch Reading Ease, and Dale-Chall scores.Missing values were handled automatically by feature functions.All features were standardized using StandardScaler before model training."
      ],
      "metadata": {
        "id": "vx_hMRHbC3t-"
      }
    },
    {
      "cell_type": "markdown",
      "source": [
        " *Pipeline Architecture:\n",
        "The pipeline includes feature extraction → scaling → model training using Ridge Regression.We split the training data into training and validation sets (80/20 split).The final trained model predicts scores on the test data"
      ],
      "metadata": {
        "id": "ID4FCK6AC3oD"
      }
    },
    {
      "cell_type": "markdown",
      "source": [
        "Evaluation Results :The model achieved a low Train RMSE, and validation RMSE was close, indicating good generalization.Pearson Correlation on validation data showed a strong linear relationship between actual and predicted scores.Visualizations confirm the consistency of predicted scores with actual targets.\n",
        "\n"
      ],
      "metadata": {
        "id": "KBUeG7e_C3la"
      }
    }
  ]
}